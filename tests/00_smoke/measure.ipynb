{
 "cells": [
  {
   "cell_type": "code",
   "execution_count": 9,
   "metadata": {},
   "outputs": [],
   "source": [
    "import time\n",
    "import requests\n",
    "\n",
    "def api_call(url: str, method = requests.get) -> [requests.Response | None]:\n",
    "    ''' Wrapper for API call which catch all errors and return response'''\n",
    "    \n",
    "    try:\n",
    "        return method(url)\n",
    "    except:\n",
    "        pass\n",
    "        \n",
    "    return None\n",
    "\n",
    "def print_response_result_function(response: requests.Response):\n",
    "    print(response.status_code, response.reason, response.text)\n",
    "\n",
    "def measure(measured_function, result_function):\n",
    "    start = time.time()\n",
    "    # your code...\n",
    "    result = measured_function()\n",
    "    # end of you code\n",
    "    end = time.time()\n",
    "    \n",
    "    diff_time = end - start\n",
    "    \n",
    "    print(diff_time) # time in seconds\n",
    "    \n",
    "    if result_function:\n",
    "        result_function(result)\n",
    "        \n",
    "    return diff_time\n",
    "\n",
    "\n",
    "def get_dotnet_members():\n",
    "    return api_call('http://localhost:5029/Member', requests.get)\n",
    "\n",
    "def get_django_collisions():\n",
    "    return api_call('http://localhost:8000/collisions', requests.get)\n",
    "\n",
    "def get_nestjs_members():\n",
    "    return api_call('http://localhost:3000/member', requests.get)"
   ]
  },
  {
   "cell_type": "code",
   "execution_count": 10,
   "metadata": {},
   "outputs": [
    {
     "name": "stdout",
     "output_type": "stream",
     "text": [
      "0.01294708251953125\n",
      "200 OK [{\"id\":\"2\",\"name\":\"string\"},{\"id\":\"3\",\"name\":\"string\"},{\"id\":\"4\",\"name\":\"dupa\"},{\"id\":\"5\",\"name\":\"ala\"},{\"id\":\"6\",\"name\":\"ela\"},{\"id\":\"7\",\"name\":\"ela\"},{\"id\":\"1\",\"name\":\"ewa\"},{\"id\":\"9\",\"name\":\"qw\"}]\n"
     ]
    }
   ],
   "source": [
    "data = {\n",
    "    # 'Dotnet': measure(get_dotnet_members, print_response_result_function),\n",
    "    # 'Django': measure(get_django_collisions, print_response_result_function),\n",
    "    'Nestjs': measure(get_nestjs_members, print_response_result_function),\n",
    "}"
   ]
  },
  {
   "cell_type": "code",
   "execution_count": 11,
   "metadata": {},
   "outputs": [],
   "source": [
    "import matplotlib.pyplot as plt\n",
    "\n",
    "def plot_bar_plot(data, xlabel, ylabel, title):\n",
    "    courses = list(data.keys())\n",
    "    values = list(data.values())\n",
    "    \n",
    "    plt.figure(figsize = (5, 2))\n",
    "    \n",
    "    # creating the bar plot\n",
    "    plt.bar(courses, values, color ='maroon',\n",
    "            width = 0.4)\n",
    "    \n",
    "    plt.xlabel(xlabel)\n",
    "    plt.ylabel(ylabel)\n",
    "    plt.title(title)\n",
    "    plt.show()\n"
   ]
  },
  {
   "cell_type": "code",
   "execution_count": 12,
   "metadata": {},
   "outputs": [
    {
     "name": "stdout",
     "output_type": "stream",
     "text": [
      "0.2370898723602295\n",
      "200 OK [{\"id\":1,\"name\":\"Ania\"},{\"id\":2,\"name\":\"Iga\"},{\"id\":4,\"name\":\"string\"},{\"id\":5,\"name\":\"qwe\"},{\"id\":6,\"name\":\"ert\"}]\n",
      "0.05342268943786621\n",
      "200 OK []\n",
      "0.011281728744506836\n",
      "200 OK [{\"id\":\"2\",\"name\":\"string\"},{\"id\":\"3\",\"name\":\"string\"},{\"id\":\"4\",\"name\":\"dupa\"},{\"id\":\"5\",\"name\":\"ala\"},{\"id\":\"6\",\"name\":\"ela\"},{\"id\":\"7\",\"name\":\"ela\"},{\"id\":\"1\",\"name\":\"ewa\"},{\"id\":\"9\",\"name\":\"qw\"}]\n"
     ]
    },
    {
     "data": {
      "image/png": "[encoded data removed]",
      "text/plain": [
       "<Figure size 500x200 with 1 Axes>"
      ]
     },
     "metadata": {},
     "output_type": "display_data"
    }
   ],
   "source": [
    "data = {\n",
    "    'Dotnet': measure(get_dotnet_members, print_response_result_function),\n",
    "    'Django': measure(get_django_collisions, print_response_result_function),\n",
    "    'Nestjs': measure(get_nestjs_members, print_response_result_function),\n",
    "}\n",
    "plot_bar_plot(data, xlabel=\"Frameworks\", ylabel=\"Response time [s]\", title=\"One API call response time\")"
   ]
  }
 ],
 "metadata": {
  "kernelspec": {
   "display_name": "Python 3",
   "language": "python",
   "name": "python3"
  },
  "language_info": {
   "codemirror_mode": {
    "name": "ipython",
    "version": 3
   },
   "file_extension": ".py",
   "mimetype": "text/x-python",
   "name": "python",
   "nbconvert_exporter": "python",
   "pygments_lexer": "ipython3",
   "version": "3.10.9"
  },
  "orig_nbformat": 4
 },
 "nbformat": 4,
 "nbformat_minor": 2
}
